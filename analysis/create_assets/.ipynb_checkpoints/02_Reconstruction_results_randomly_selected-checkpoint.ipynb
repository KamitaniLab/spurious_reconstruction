{
 "cells": [
  {
   "cell_type": "code",
   "execution_count": 1,
   "metadata": {},
   "outputs": [],
   "source": [
    "import argparse\n",
    "import os\n",
    "from glob import glob\n",
    "import shutil\n",
    "import bdpy\n",
    "from bdpy.fig import makeplots, draw_group_image_set\n",
    "from bdpy.util import makedir_ifnot\n",
    "\n",
    "import matplotlib.pyplot as plt\n",
    "import numpy as np\n",
    "import pandas as pd\n",
    "import yaml"
   ]
  },
  {
   "cell_type": "code",
   "execution_count": 10,
   "metadata": {},
   "outputs": [],
   "source": [
    "save_dir = '../../results/assets/fig02'\n",
    "os.makedirs(save_dir, exist_ok=True)"
   ]
  },
  {
   "cell_type": "code",
   "execution_count": 11,
   "metadata": {},
   "outputs": [
    {
     "name": "stdout",
     "output_type": "stream",
     "text": [
      "12\n"
     ]
    }
   ],
   "source": [
    "#NSD \n",
    "# reported image selection\n",
    "true_image_dir = '/home/nu/ken.shirakawa/projects/python_KS/python/featanalyze/Analyze_NSD/contents_shared/NSD-stimuli/source_share_test/source/'\n",
    "true_image_ext = 'png'\n",
    "recon_image_ext = 'tiff'\n",
    "\n",
    "\n",
    "true_image_all = list(np.sort((glob(os.path.join(true_image_dir, '*.' + true_image_ext)))))\n",
    "\n",
    "\n",
    "\n",
    "selected_images =  np.sort(['nsd03050', 'nsd03435', 'nsd05302', 'nsd07008', 'nsd10065', 'nsd22264',\n",
    "                    'nsd37802' , 'nsd19201', 'nsd26436',  'nsd10007',  'nsd21509',  'nsd67803'\n",
    "                   ])\n",
    "true_images = [true_image for true_image in true_image_all  if os.path.basename(true_image).split('.')[0] in selected_images]\n",
    "print(len(true_images))"
   ]
  },
  {
   "cell_type": "code",
   "execution_count": 4,
   "metadata": {},
   "outputs": [],
   "source": [
    "recon_path_dict = {\n",
    "    \n",
    "    \"StableDiffusionReconstruction\": \"/home/nu/data/contents_shared/NSD-stimuli/derivatives/reconstruction/TN_SD_v1_4/img2img/decoded/gen_5_image2imagensd-betasfithrfGLMdenoiseRR_trainnoave_testave_fastl2lir_a1_nsd-betasfithrfGLMdenoiseRR_trainnoave_testave_fastl2lir_a1/nsd-01/streams_early-streams_ventralgen_0/\",\n",
    "    \n",
    "    \"BrainDiffuser\": \"/home/nu/mtanaka/project/dnn_test/brain_diffuser/reconstruction/derivatives/brain-diffuser/NSD-stimuli/decoded_scaled/NSD_fmriprep_rep3_trialaverage_allvoxel_allunits_fastl2lir_alpha100000/sub-01_beta/NSDgeneral/\",\n",
    "    \n",
    "    \n",
    "    \"iCNN\": \"/home/nu/ken.shirakawa/projects/python_KS/python/share_analysis/recon-repro/derivatives/reconstruction/icnn/recon_icnn_image_gd_dist_vgg19_relu7generator_gd_scaling_feature_std_train_mean_center_1000iter/decoded/NSD/nsd-01/nsdgeneral/\",\n",
    "    }"
   ]
  },
  {
   "cell_type": "code",
   "execution_count": 5,
   "metadata": {},
   "outputs": [
    {
     "name": "stdout",
     "output_type": "stream",
     "text": [
      "StableDiffusionReconstruction\n",
      "12\n",
      "BrainDiffuser\n",
      "12\n",
      "iCNN\n",
      "12\n"
     ]
    }
   ],
   "source": [
    "# save all images \n",
    "\n",
    "image_set = [\n",
    "            {'title': '', 'image_filepath_list': true_images},\n",
    "        ]\n",
    "\n",
    "image_path_list = []\n",
    "for i, (cond_name, recon_path) in enumerate(recon_path_dict.items()):\n",
    "    print(cond_name)\n",
    "\n",
    "    recon_images = glob(f'{recon_path}/*.tiff')\n",
    "    recon_images = [recon_image for recon_image in recon_images  if os.path.basename(recon_image).split('.')[0].split('-')[1] in selected_images ]\n",
    "    #assert 1== 0\n",
    "    recon_images =list(np.sort(recon_images)) \n",
    "    print(len(recon_images))\n",
    "    image_set.append(\n",
    "            {'title': \"\",#f'{cond_name}',\n",
    "             'image_filepath_list': recon_images},\n",
    "        )\n",
    "    "
   ]
  },
  {
   "cell_type": "code",
   "execution_count": null,
   "metadata": {},
   "outputs": [],
   "source": []
  },
  {
   "cell_type": "code",
   "execution_count": 14,
   "metadata": {},
   "outputs": [],
   "source": [
    "img = draw_group_image_set(\n",
    "                image_set,\n",
    "                max_column_size=6,\n",
    "               title_left_padding = 0,\n",
    "           title_fontsize = 18,\n",
    "              \n",
    "            )\n",
    "img.save(f'{save_dir}/nsd_selected.pdf')"
   ]
  },
  {
   "cell_type": "code",
   "execution_count": 13,
   "metadata": {},
   "outputs": [
    {
     "data": {
      "text/plain": [
       "'../../results/assets/fig02'"
      ]
     },
     "execution_count": 13,
     "metadata": {},
     "output_type": "execute_result"
    }
   ],
   "source": [
    "save_dir"
   ]
  },
  {
   "cell_type": "code",
   "execution_count": 16,
   "metadata": {},
   "outputs": [],
   "source": [
    "# Deeprecon\n",
    "# reported image selection\n",
    "\n",
    "true_image_dir = '/home/nu/data/contents_shared/ImageNetTest/source/'\n",
    "true_image_ext = 'JPEG'\n",
    "recon_image_ext = 'tiff'\n",
    "\n",
    "true_image_all = list(np.sort((glob(os.path.join(true_image_dir, '*.' + true_image_ext)))))\n",
    "\n",
    "\n",
    "selected_images = [ \"n01443537_22563\", \"n01858441_11077\",\"n02139199_10398\", \"n02690373_7713\", \"n03710193_22225\", \"n04252077_10859\"]\n",
    "\n",
    "true_images = [true_image for true_image in true_image_all  if os.path.basename(true_image).split('.')[0] in selected_images ]"
   ]
  },
  {
   "cell_type": "code",
   "execution_count": 17,
   "metadata": {},
   "outputs": [],
   "source": [
    "recon_path_dict = {\n",
    "    \n",
    "    \"StableDiffusionReconstruction\": \"/home/nu/data/contents_shared/ImageNetTest/derivatives/reconstruction/TN_SD_v1_4/img2img/decoded/gen_5_image2imagedeeprecon-fmriprep_trainnoave_testave_fastl2lir_no_vox_select_a1_deeprecon-fmriprep_trainnoave_testave_fastl2lir_no_vox_select_a1/dr-01/VC-VCgen_0/\",\n",
    "    \n",
    "    \"Brain-Diffuser\": \"/home/nu/data/contents_shared/ImageNetTest/derivatives/reconstruction/versatile_diffusion/vd_doublecond_scaled_pytorch/decoded/deeprecon_testImageNet_trainnoave_testave_fastl2lir_alpha_100000/dr-01/VC/\",\n",
    "    \n",
    "      \"iCNN\": \"/home/nu/ken.shirakawa/projects/python_KS/python/share_analysis/recon-repro/derivatives/reconstruction/icnn/recon_icnn_image_gd_dist_vgg19_relu7generator_gd_scaling_feature_std_train_mean_center_1000iter/decoded/ImageNetTest/TH/VC/\"\n",
    "  \n",
    "    }"
   ]
  },
  {
   "cell_type": "code",
   "execution_count": 18,
   "metadata": {},
   "outputs": [
    {
     "name": "stdout",
     "output_type": "stream",
     "text": [
      "StableDiffusionReconstruction\n",
      "6\n",
      "Brain-Diffuser\n",
      "6\n",
      "iCNN\n",
      "6\n"
     ]
    }
   ],
   "source": [
    "# save all images \n",
    "\n",
    "image_set = [\n",
    "            {'title': '', 'image_filepath_list': true_images},\n",
    "        ]\n",
    "\n",
    "image_path_list = []\n",
    "for i, (cond_name, recon_path) in enumerate(recon_path_dict.items()):\n",
    "    print(cond_name)\n",
    "\n",
    "    recon_images = glob(f'{recon_path}/*.tiff')\n",
    "    recon_images = [recon_image for recon_image in recon_images  if os.path.basename(recon_image).split('.')[0].split('-')[1] in selected_images]\n",
    "    recon_images =list(np.sort(recon_images)) \n",
    "    #assert 1== 0\n",
    "    print(len(recon_images))\n",
    "    image_set.append(\n",
    "            {'title': \"\",#f'{cond_name}',\n",
    "             'image_filepath_list': recon_images},\n",
    "        )\n",
    "    "
   ]
  },
  {
   "cell_type": "code",
   "execution_count": 19,
   "metadata": {},
   "outputs": [],
   "source": [
    "img = draw_group_image_set(\n",
    "                image_set,\n",
    "                max_column_size=6,\n",
    "               title_left_padding = 0,\n",
    "           title_fontsize = 18,\n",
    "              \n",
    "            )\n",
    "    \n",
    "img.save(f'{save_dir}/deeprecon_selected.pdf')"
   ]
  },
  {
   "cell_type": "code",
   "execution_count": 20,
   "metadata": {},
   "outputs": [],
   "source": [
    "#　Artificial Shape image\n",
    "true_image_dir = '/home/nu/data/contents_shared/ArtificialShapes/source/'\n",
    "true_image_ext = 'tiff'\n",
    "recon_image_ext = 'tiff'\n",
    "\n",
    "true_image_all = list(np.sort((glob(os.path.join(true_image_dir, '*.' + true_image_ext)))))\n",
    "selected_images = [\"colorExpStim01_red_square\", \"colorExpStim03_red_largering\", \"colorExpStim04_red_+\", \"colorExpStim09_green_+\", \"colorExpStim31_white_square\",\"colorExpStim40_black_X\"]\n",
    "true_images = [true_image for true_image in true_image_all  if os.path.basename(true_image).split('.')[0] in selected_images ]"
   ]
  },
  {
   "cell_type": "code",
   "execution_count": 21,
   "metadata": {},
   "outputs": [],
   "source": [
    "recon_path_dict = {\n",
    "    \n",
    "    \"Takagi and \\nNishimoto, 2023\": \"/home/nu/data/contents_shared/ArtificialShapes/derivatives/reconstruction/TN_SD_v1_4/img2img/decoded/gen_5_image2imagedeeprecon-fmriprep_trainnoave_testave_fastl2lir_no_vox_select_a1_deeprecon-fmriprep_trainnoave_testave_fastl2lir_no_vox_select_a1/dr-01/VC-VCgen_0/\",\n",
    "    \n",
    "    \"Ozcelik and \\nVanRullen, 2023 \": \"/home/nu/data/contents_shared/ArtificialShapes/derivatives/reconstruction/versatile_diffusion/vd_doublecond_scaled_pytorch/decoded/deeprecon_testArtificialShapes_trainnoave_testave_fastl2lir_alpha_100000/dr-01/VC/\",\n",
    "    \n",
    "    \n",
    "    \"Shen et al., \\n2019\": \"/home/nu/ken.shirakawa/projects/python_KS/python/share_analysis/recon-repro/derivatives/reconstruction/icnn/recon_icnn_image_gd_dist_vgg19_relu7generator_gd_scaling_feature_std_train_mean_center_1000iter/decoded/ArtificialShapes/TH/VC/\"\n",
    "\n",
    "  \n",
    "    }"
   ]
  },
  {
   "cell_type": "code",
   "execution_count": 22,
   "metadata": {},
   "outputs": [
    {
     "name": "stdout",
     "output_type": "stream",
     "text": [
      "Takagi and \n",
      "Nishimoto, 2023\n",
      "6\n",
      "Ozcelik and \n",
      "VanRullen, 2023 \n",
      "6\n",
      "Shen et al., \n",
      "2019\n",
      "6\n"
     ]
    }
   ],
   "source": [
    "# save all images \n",
    "\n",
    "image_set = [\n",
    "            {'title': '', 'image_filepath_list': true_images},\n",
    "        ]\n",
    "\n",
    "image_path_list = []\n",
    "for i, (cond_name, recon_path) in enumerate(recon_path_dict.items()):\n",
    "    print(cond_name)\n",
    "\n",
    "    recon_images = glob(f'{recon_path}/*.tiff')\n",
    "    recon_images = [recon_image for recon_image in recon_images  if os.path.basename(recon_image).split('.')[0].split('-')[1] in selected_images]\n",
    "    recon_images =list(np.sort(recon_images)) \n",
    "    #assert 1== 0\n",
    "    print(len(recon_images))\n",
    "    image_set.append(\n",
    "            {'title': \"\",#f'{cond_name}',\n",
    "             'image_filepath_list': recon_images},\n",
    "        )\n",
    "    "
   ]
  },
  {
   "cell_type": "code",
   "execution_count": 23,
   "metadata": {},
   "outputs": [],
   "source": [
    "img = draw_group_image_set(\n",
    "                image_set,\n",
    "                max_column_size=6,\n",
    "               title_left_padding = 0,\n",
    "           title_fontsize = 18,\n",
    "              \n",
    "            )\n",
    "    \n",
    "img.save(f'{save_dir}/ArtificialShapes_selected.pdf')"
   ]
  },
  {
   "cell_type": "code",
   "execution_count": null,
   "metadata": {},
   "outputs": [],
   "source": []
  }
 ],
 "metadata": {
  "kernelspec": {
   "display_name": "diffusers_v2",
   "language": "python",
   "name": "diffusers_v2"
  },
  "language_info": {
   "codemirror_mode": {
    "name": "ipython",
    "version": 3
   },
   "file_extension": ".py",
   "mimetype": "text/x-python",
   "name": "python",
   "nbconvert_exporter": "python",
   "pygments_lexer": "ipython3",
   "version": "3.8.16"
  }
 },
 "nbformat": 4,
 "nbformat_minor": 2
}
