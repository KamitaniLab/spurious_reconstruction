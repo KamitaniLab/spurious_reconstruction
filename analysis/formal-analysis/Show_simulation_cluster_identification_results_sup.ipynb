{
 "cells": [
  {
   "cell_type": "code",
   "execution_count": 1,
   "metadata": {},
   "outputs": [],
   "source": [
    "# %%\n",
    "import os\n",
    "import pickle\n",
    "from typing import Optional\n",
    "import warnings\n",
    "import numpy as np\n",
    "from tqdm import tqdm\n",
    "import matplotlib.pyplot as plt\n",
    "import seaborn as sns\n",
    "from scipy.spatial.distance import cdist\n"
   ]
  },
  {
   "cell_type": "code",
   "execution_count": 17,
   "metadata": {},
   "outputs": [
    {
     "name": "stdout",
     "output_type": "stream",
     "text": [
      "/home/nu/ken.shirakawa/projects/python_KS/python/share_analysis/spurious_reconstruction\n"
     ]
    }
   ],
   "source": [
    "!pwd"
   ]
  },
  {
   "cell_type": "code",
   "execution_count": 12,
   "metadata": {},
   "outputs": [],
   "source": [
    "def find_first_index_above_threshold(arr, threshold):\n",
    "    \"\"\"\n",
    "    配列 arr において、指定された閾値 threshold を超える最初の要素のインデックスを返す。\n",
    "    閾値を超える要素がない場合は None を返す。\n",
    "    \n",
    "    Parameters:\n",
    "    arr (numpy.ndarray): 検索する配列。\n",
    "    threshold (float): 閾値。\n",
    "    \n",
    "    Returns:\n",
    "    int or None: 閾値を超える最初の要素のインデックス、または None。\n",
    "    \"\"\"\n",
    "    # 閾値を超える要素のブールインデックスを取得\n",
    "    above_threshold = arr > threshold\n",
    "    \n",
    "    # 閾値を超える最初の要素のインデックスを取得\n",
    "    indices = np.where(above_threshold)[0]\n",
    "    \n",
    "    if indices.size > 0:\n",
    "        return indices[0]\n",
    "    else:\n",
    "        return -1"
   ]
  },
  {
   "cell_type": "code",
   "execution_count": 13,
   "metadata": {},
   "outputs": [],
   "source": [
    "num_inner_clusters_list = np.array([2, 4, 8, 16, 32, 64, 128, 256, 512, 1024, #2^10 \n",
    "                                    #2048, 4096\n",
    "                                    #4096, 8192, 16384, 32768, 65536, # 2^16\n",
    "                                    #131072, 262144, 524288\n",
    "                                    ])\n",
    "dim_list = [2, 4, 8, 16, 32 , 64 ,128, 256, 512, 1024, 2048, 4096, 8192 ]\n",
    "\n",
    "dim = 512\n",
    "inner_intra_ratio_list = [0.01, 0.1, 0.5, 1.0, 5.0, 10, 50, 100]"
   ]
  },
  {
   "cell_type": "code",
   "execution_count": 14,
   "metadata": {},
   "outputs": [],
   "source": [
    "# load results \n",
    "load_dir = './results/cluster_identification_ratio/'#save_dict_10.pkl'\n",
    "assert os.path.isdir(load_dir)\n",
    "\n",
    "ratio_list = [0.1, 0.01, 0.5]\n",
    "\n",
    "ratio = 0.1\n",
    "with open(os.path.join(load_dir, \"cluster_identifiction_change_intra_inter_ratio.pkl\"), 'rb') as f:\n",
    "    res_dict = pickle.load(f)\n",
    "    \n",
    "    \n",
    "cond_dict = {\n",
    "     \"alpha: 10\": \"cluster_identifiction_change_intra_inter_ratio.pkl\",\n",
    "}\n",
    "\n",
    "color_dict = {\n",
    "    \"alpha: 10\": 0.5,\n",
    "}\n"
   ]
  },
  {
   "cell_type": "code",
   "execution_count": 19,
   "metadata": {},
   "outputs": [
    {
     "data": {
      "text/plain": [
       "{0.01: {'test_classification_accuracy': array([1., 1., 1., 1., 1.], dtype=float32),\n",
       "  'oos_classification_accuracy': array([0.  , 0.  , 0.66, 1.  , 1.  ], dtype=float32),\n",
       "  'chance_performances': array([0.03030303, 0.01538462, 0.00775194, 0.00389105, 0.00097561],\n",
       "        dtype=float32)},\n",
       " 0.1: {'test_classification_accuracy': array([1., 1., 1., 1., 1.], dtype=float32),\n",
       "  'oos_classification_accuracy': array([0.  , 0.15, 0.95, 1.  , 1.  ], dtype=float32),\n",
       "  'chance_performances': array([0.03030303, 0.01538462, 0.00775194, 0.00389105, 0.00097561],\n",
       "        dtype=float32)},\n",
       " 0.5: {'test_classification_accuracy': array([1., 1., 1., 1., 1.], dtype=float32),\n",
       "  'oos_classification_accuracy': array([0.75, 0.92, 1.  , 1.  , 1.  ], dtype=float32),\n",
       "  'chance_performances': array([0.03030303, 0.01538462, 0.00775194, 0.00389105, 0.00097561],\n",
       "        dtype=float32)},\n",
       " 1.0: {'test_classification_accuracy': array([1., 1., 1., 1., 1.], dtype=float32),\n",
       "  'oos_classification_accuracy': array([0.9 , 0.97, 1.  , 1.  , 1.  ], dtype=float32),\n",
       "  'chance_performances': array([0.03030303, 0.01538462, 0.00775194, 0.00389105, 0.00097561],\n",
       "        dtype=float32)},\n",
       " 5: {'test_classification_accuracy': array([1.  , 1.  , 1.  , 1.  , 0.98], dtype=float32),\n",
       "  'oos_classification_accuracy': array([0.79 , 0.87 , 0.955, 0.96 , 0.98 ], dtype=float32),\n",
       "  'chance_performances': array([0.03030303, 0.01538462, 0.00775194, 0.00389105, 0.00097561],\n",
       "        dtype=float32)},\n",
       " 10: {'test_classification_accuracy': array([0.97 , 0.945, 0.92 , 0.87 , 0.77 ], dtype=float32),\n",
       "  'oos_classification_accuracy': array([0.645, 0.71 , 0.77 , 0.785, 0.735], dtype=float32),\n",
       "  'chance_performances': array([0.03030303, 0.01538462, 0.00775194, 0.00389105, 0.00097561],\n",
       "        dtype=float32)},\n",
       " 50: {'test_classification_accuracy': array([0.46 , 0.33 , 0.23 , 0.195, 0.08 ], dtype=float32),\n",
       "  'oos_classification_accuracy': array([0.285, 0.265, 0.225, 0.165, 0.09 ], dtype=float32),\n",
       "  'chance_performances': array([0.03030303, 0.01538462, 0.00775194, 0.00389105, 0.00097561],\n",
       "        dtype=float32)},\n",
       " 100: {'test_classification_accuracy': array([0.245, 0.18 , 0.11 , 0.08 , 0.03 ], dtype=float32),\n",
       "  'oos_classification_accuracy': array([0.2  , 0.14 , 0.11 , 0.065, 0.03 ], dtype=float32),\n",
       "  'chance_performances': array([0.03030303, 0.01538462, 0.00775194, 0.00389105, 0.00097561],\n",
       "        dtype=float32)}}"
      ]
     },
     "execution_count": 19,
     "metadata": {},
     "output_type": "execute_result"
    }
   ],
   "source": [
    "res_dict"
   ]
  },
  {
   "cell_type": "code",
   "execution_count": 20,
   "metadata": {},
   "outputs": [
    {
     "name": "stdout",
     "output_type": "stream",
     "text": [
      "0.01\n",
      "0.1\n",
      "0.5\n",
      "1.0\n",
      "5.0\n",
      "10\n",
      "50\n",
      "100\n",
      "[0.   0.   0.66 1.   1.  ]\n"
     ]
    },
    {
     "ename": "KeyError",
     "evalue": "2",
     "output_type": "error",
     "traceback": [
      "\u001b[0;31m---------------------------------------------------------------------------\u001b[0m",
      "\u001b[0;31mKeyError\u001b[0m                                  Traceback (most recent call last)",
      "Cell \u001b[0;32mIn[20], line 31\u001b[0m\n\u001b[1;32m     29\u001b[0m \u001b[38;5;28mprint\u001b[39m(arr)\n\u001b[1;32m     30\u001b[0m dim \u001b[38;5;241m=\u001b[39m dim_list[i]\n\u001b[0;32m---> 31\u001b[0m chance_performance \u001b[38;5;241m=\u001b[39m \u001b[43mres_dict\u001b[49m\u001b[43m[\u001b[49m\u001b[43mdim\u001b[49m\u001b[43m]\u001b[49m[\u001b[38;5;124m'\u001b[39m\u001b[38;5;124mchance_performances\u001b[39m\u001b[38;5;124m'\u001b[39m][j]\n\u001b[1;32m     33\u001b[0m ind_50 \u001b[38;5;241m=\u001b[39m find_first_index_above_threshold(arr, thres )\n\u001b[1;32m     34\u001b[0m \u001b[38;5;28;01mif\u001b[39;00m ind_50 \u001b[38;5;241m==\u001b[39m \u001b[38;5;241m-\u001b[39m\u001b[38;5;241m1\u001b[39m: \n",
      "\u001b[0;31mKeyError\u001b[0m: 2"
     ]
    },
    {
     "data": {
      "image/png": "[encoded data removed]",
      "text/plain": [
       "<Figure size 600x400 with 1 Axes>"
      ]
     },
     "metadata": {},
     "output_type": "display_data"
    }
   ],
   "source": [
    "fig = plt.figure(figsize=(6,4))\n",
    "ax = fig.add_subplot(111)\n",
    "thres = 0.5\n",
    "\n",
    "\n",
    "for j, (cond_n, cond_f) in enumerate(cond_dict.items()):\n",
    "    with open(os.path.join(load_dir, cond_f), 'rb') as f:\n",
    "        res_dict = pickle.load(f)\n",
    "        \n",
    "        \n",
    "    res_array = []\n",
    "    test_array = []\n",
    "    for i, dim in enumerate(inner_intra_ratio_list):\n",
    "        print(dim)\n",
    "        #print(res_dict[dim]['oos_classification_accuracy'])\n",
    "        test_array.append(res_dict[dim]['test_classification_accuracy'])\n",
    "        res_array.append(res_dict[dim]['oos_classification_accuracy'])\n",
    "        #ax1.plot(num_inner_clusters_list, res_dict[dim]['test_classification_accuracy'], color=cmap(i))\n",
    "\n",
    "        #ax2.plot(num_inner_clusters_list, res_dict[dim]['oos_classification_accuracy'], label=f'dim {dim}', color=cmap(i))\n",
    "    res_array = np.array(res_array)\n",
    "    test_array = np.array(test_array)\n",
    "    \n",
    "    \n",
    "    above_0_list = []\n",
    "    above_50_list = []\n",
    "    above_chance_list = []\n",
    "    for i, arr in enumerate(res_array):\n",
    "        print(arr)\n",
    "        dim = dim_list[i]\n",
    "        chance_performance = res_dict[dim]['chance_performances'][j]\n",
    "\n",
    "        ind_50 = find_first_index_above_threshold(arr, thres )\n",
    "        if ind_50 == -1: \n",
    "            cluster_50 = 0\n",
    "        else:\n",
    "            cluster_50 = num_inner_clusters_list[ind_50]\n",
    "        above_50_list.append(cluster_50)\n",
    "\n",
    "\n",
    "        ind_chance = find_first_index_above_threshold(arr, chance_performance)\n",
    "        if ind_chance == -1: \n",
    "            cluster_chance = 0\n",
    "        else:\n",
    "            cluster_chance = num_inner_clusters_list[ind_chance]\n",
    "        above_chance_list.append(cluster_chance)\n",
    "\n",
    "\n",
    "        ind_0 = find_first_index_above_threshold(arr, 0)\n",
    "        if ind_0 == -1: \n",
    "            cluster_0 = 0\n",
    "        else:\n",
    "            cluster_0 = num_inner_clusters_list[ind_0]\n",
    "        above_0_list.append(cluster_0)\n",
    "\n",
    "        \n",
    "    ax.plot(dim_list[:-2], above_50_list[:-2], '-o', color=str(color_dict[cond_n]), label=cond_n)\n",
    "\n",
    "\n",
    "ax.set_ylim([0, 750])\n",
    "ax.set_xlabel('Dimension')\n",
    "ax.set_ylabel('Number of cluster')\n",
    "sns.despine()\n",
    "ax.legend()\n",
    "    \n",
    "    \n",
    "#fig.savefig(f'./results/assets/fig09/novel_cluster_identification_compare_thres{thres}.pdf')\n",
    "\n",
    "#fig.savefig(f'./results/assets/fig09/novel_cluster_identification_compare_thres{thres}.png', dpi=600)"
   ]
  },
  {
   "cell_type": "code",
   "execution_count": 10,
   "metadata": {},
   "outputs": [
    {
     "ename": "FileNotFoundError",
     "evalue": "[Errno 2] No such file or directory: './results/cluster_identification_ratio/cluster_identifiction_intra_inter_ratio0.1.pkl'",
     "output_type": "error",
     "traceback": [
      "\u001b[0;31m---------------------------------------------------------------------------\u001b[0m",
      "\u001b[0;31mFileNotFoundError\u001b[0m                         Traceback (most recent call last)",
      "Cell \u001b[0;32mIn[10], line 3\u001b[0m\n\u001b[1;32m      1\u001b[0m \u001b[38;5;66;03m#num_inner_clusters_list, res_dict[dim]['test_classification_accuracy']\u001b[39;00m\n\u001b[0;32m----> 3\u001b[0m \u001b[38;5;28;01mwith\u001b[39;00m \u001b[38;5;28;43mopen\u001b[39;49m\u001b[43m(\u001b[49m\u001b[43mos\u001b[49m\u001b[38;5;241;43m.\u001b[39;49m\u001b[43mpath\u001b[49m\u001b[38;5;241;43m.\u001b[39;49m\u001b[43mjoin\u001b[49m\u001b[43m(\u001b[49m\u001b[43mload_dir\u001b[49m\u001b[43m,\u001b[49m\u001b[43m \u001b[49m\u001b[38;5;124;43m'\u001b[39;49m\u001b[38;5;124;43mcluster_identifiction_intra_inter_ratio0.1.pkl\u001b[39;49m\u001b[38;5;124;43m'\u001b[39;49m\u001b[43m)\u001b[49m\u001b[43m,\u001b[49m\u001b[43m \u001b[49m\u001b[38;5;124;43m'\u001b[39;49m\u001b[38;5;124;43mrb\u001b[39;49m\u001b[38;5;124;43m'\u001b[39;49m\u001b[43m)\u001b[49m \u001b[38;5;28;01mas\u001b[39;00m f:\n\u001b[1;32m      4\u001b[0m    res_dict \u001b[38;5;241m=\u001b[39m pickle\u001b[38;5;241m.\u001b[39mload(f)\n",
      "File \u001b[0;32m/home/nu/ken.shirakawa/projects/python_KS/python/share_analysis/spurious_reconstruction/.venv/lib/python3.8/site-packages/IPython/core/interactiveshell.py:284\u001b[0m, in \u001b[0;36m_modified_open\u001b[0;34m(file, *args, **kwargs)\u001b[0m\n\u001b[1;32m    277\u001b[0m \u001b[38;5;28;01mif\u001b[39;00m file \u001b[38;5;129;01min\u001b[39;00m {\u001b[38;5;241m0\u001b[39m, \u001b[38;5;241m1\u001b[39m, \u001b[38;5;241m2\u001b[39m}:\n\u001b[1;32m    278\u001b[0m     \u001b[38;5;28;01mraise\u001b[39;00m \u001b[38;5;167;01mValueError\u001b[39;00m(\n\u001b[1;32m    279\u001b[0m         \u001b[38;5;124mf\u001b[39m\u001b[38;5;124m\"\u001b[39m\u001b[38;5;124mIPython won\u001b[39m\u001b[38;5;124m'\u001b[39m\u001b[38;5;124mt let you open fd=\u001b[39m\u001b[38;5;132;01m{\u001b[39;00mfile\u001b[38;5;132;01m}\u001b[39;00m\u001b[38;5;124m by default \u001b[39m\u001b[38;5;124m\"\u001b[39m\n\u001b[1;32m    280\u001b[0m         \u001b[38;5;124m\"\u001b[39m\u001b[38;5;124mas it is likely to crash IPython. If you know what you are doing, \u001b[39m\u001b[38;5;124m\"\u001b[39m\n\u001b[1;32m    281\u001b[0m         \u001b[38;5;124m\"\u001b[39m\u001b[38;5;124myou can use builtins\u001b[39m\u001b[38;5;124m'\u001b[39m\u001b[38;5;124m open.\u001b[39m\u001b[38;5;124m\"\u001b[39m\n\u001b[1;32m    282\u001b[0m     )\n\u001b[0;32m--> 284\u001b[0m \u001b[38;5;28;01mreturn\u001b[39;00m \u001b[43mio_open\u001b[49m\u001b[43m(\u001b[49m\u001b[43mfile\u001b[49m\u001b[43m,\u001b[49m\u001b[43m \u001b[49m\u001b[38;5;241;43m*\u001b[39;49m\u001b[43margs\u001b[49m\u001b[43m,\u001b[49m\u001b[43m \u001b[49m\u001b[38;5;241;43m*\u001b[39;49m\u001b[38;5;241;43m*\u001b[39;49m\u001b[43mkwargs\u001b[49m\u001b[43m)\u001b[49m\n",
      "\u001b[0;31mFileNotFoundError\u001b[0m: [Errno 2] No such file or directory: './results/cluster_identification_ratio/cluster_identifiction_intra_inter_ratio0.1.pkl'"
     ]
    }
   ],
   "source": [
    "#num_inner_clusters_list, res_dict[dim]['test_classification_accuracy']\n",
    "\n",
    "with open(os.path.join(load_dir, 'cluster_identifiction_intra_inter_ratio0.1.pkl'), 'rb') as f:\n",
    "   res_dict = pickle.load(f)"
   ]
  },
  {
   "cell_type": "code",
   "execution_count": 11,
   "metadata": {},
   "outputs": [
    {
     "name": "stdout",
     "output_type": "stream",
     "text": [
      "2\n"
     ]
    },
    {
     "name": "stderr",
     "output_type": "stream",
     "text": [
      "/tmp/ipykernel_28008/2952413909.py:2: MatplotlibDeprecationWarning: The get_cmap function was deprecated in Matplotlib 3.7 and will be removed two minor releases later. Use ``matplotlib.colormaps[name]`` or ``matplotlib.colormaps.get_cmap(obj)`` instead.\n",
      "  cmap = cm.get_cmap('tab20')\n"
     ]
    },
    {
     "ename": "KeyError",
     "evalue": "2",
     "output_type": "error",
     "traceback": [
      "\u001b[0;31m---------------------------------------------------------------------------\u001b[0m",
      "\u001b[0;31mKeyError\u001b[0m                                  Traceback (most recent call last)",
      "Cell \u001b[0;32mIn[11], line 14\u001b[0m\n\u001b[1;32m     12\u001b[0m \u001b[38;5;28mprint\u001b[39m(dim)\n\u001b[1;32m     13\u001b[0m \u001b[38;5;66;03m#print(res_dict[dim]['oos_classification_accuracy'])\u001b[39;00m\n\u001b[0;32m---> 14\u001b[0m test_array\u001b[38;5;241m.\u001b[39mappend(\u001b[43mres_dict\u001b[49m\u001b[43m[\u001b[49m\u001b[43mdim\u001b[49m\u001b[43m]\u001b[49m[\u001b[38;5;124m'\u001b[39m\u001b[38;5;124mtest_classification_accuracy\u001b[39m\u001b[38;5;124m'\u001b[39m])\n\u001b[1;32m     15\u001b[0m res_array\u001b[38;5;241m.\u001b[39mappend(res_dict[dim][\u001b[38;5;124m'\u001b[39m\u001b[38;5;124moos_classification_accuracy\u001b[39m\u001b[38;5;124m'\u001b[39m])\n\u001b[1;32m     16\u001b[0m ax1\u001b[38;5;241m.\u001b[39mplot(num_inner_clusters_list, res_dict[dim][\u001b[38;5;124m'\u001b[39m\u001b[38;5;124mtest_classification_accuracy\u001b[39m\u001b[38;5;124m'\u001b[39m], color\u001b[38;5;241m=\u001b[39mcmap(i))\n",
      "\u001b[0;31mKeyError\u001b[0m: 2"
     ]
    },
    {
     "data": {
      "image/png": "[encoded data removed]",
      "text/plain": [
       "<Figure size 1200x400 with 2 Axes>"
      ]
     },
     "metadata": {},
     "output_type": "display_data"
    }
   ],
   "source": [
    "from matplotlib.pyplot import cm\n",
    "cmap = cm.get_cmap('tab20')\n",
    "nrow =  len(num_inner_clusters_list) \n",
    "ncol = len(dim_list)\n",
    "\n",
    "fig = plt.figure(figsize=(12,4))\n",
    "ax1 = fig.add_subplot(121)\n",
    "ax2 =    fig.add_subplot(122)\n",
    "res_array = []\n",
    "test_array = []\n",
    "for i, dim in enumerate(dim_list):\n",
    "    print(dim)\n",
    "    #print(res_dict[dim]['oos_classification_accuracy'])\n",
    "    test_array.append(res_dict[dim]['test_classification_accuracy'])\n",
    "    res_array.append(res_dict[dim]['oos_classification_accuracy'])\n",
    "    ax1.plot(num_inner_clusters_list, res_dict[dim]['test_classification_accuracy'], color=cmap(i))\n",
    "    \n",
    "    ax2.plot(num_inner_clusters_list, res_dict[dim]['oos_classification_accuracy'], label=f'dim {dim}', color=cmap(i))\n",
    "res_array = np.array(res_array)\n",
    "test_array = np.array(test_array)\n",
    "\n",
    "ax1.set_xscale('log')\n",
    "ax2.set_xscale('log')\n",
    "#plt.yscale('log')\n",
    "ax1.set_xlabel('Number of clusters')\n",
    "ax1.set_ylabel('Cluster identification accuracy')\n",
    "ax2.set_xlabel('Number of clusters')\n",
    "#ax2.set_ylabel('Cluster identification accuracy')\n",
    "#ax.hlines(y=0.5, xmin = num_inner_clusters_list[0], xmax = num_inner_clusters_list[-1], color='black', ls='--')\n",
    "fig.legend()\n",
    "sns.despine()\n",
    "ax1.set_title('Inside cluster identification')\n",
    "ax2.set_title('Outside cluster identification')"
   ]
  },
  {
   "cell_type": "code",
   "execution_count": 8,
   "metadata": {},
   "outputs": [
    {
     "ename": "NameError",
     "evalue": "name 'test_array' is not defined",
     "output_type": "error",
     "traceback": [
      "\u001b[0;31m---------------------------------------------------------------------------\u001b[0m",
      "\u001b[0;31mNameError\u001b[0m                                 Traceback (most recent call last)",
      "Cell \u001b[0;32mIn[8], line 5\u001b[0m\n\u001b[1;32m      3\u001b[0m ax2 \u001b[38;5;241m=\u001b[39m fig\u001b[38;5;241m.\u001b[39madd_subplot(\u001b[38;5;241m122\u001b[39m)\n\u001b[1;32m      4\u001b[0m cmap \u001b[38;5;241m=\u001b[39m \u001b[38;5;124m\"\u001b[39m\u001b[38;5;124mrocket\u001b[39m\u001b[38;5;124m\"\u001b[39m \u001b[38;5;66;03m#'gist_heat'\u001b[39;00m\n\u001b[0;32m----> 5\u001b[0m cmap1 \u001b[38;5;241m=\u001b[39m ax1\u001b[38;5;241m.\u001b[39mimshow(\u001b[43mtest_array\u001b[49m, cmap \u001b[38;5;241m=\u001b[39m cmap)\n\u001b[1;32m      6\u001b[0m cmap2 \u001b[38;5;241m=\u001b[39m ax2\u001b[38;5;241m.\u001b[39mimshow(res_array, cmap \u001b[38;5;241m=\u001b[39m cmap)\n\u001b[1;32m      8\u001b[0m s\u001b[38;5;241m=\u001b[39m\u001b[38;5;241m4.5\u001b[39m\n",
      "\u001b[0;31mNameError\u001b[0m: name 'test_array' is not defined"
     ]
    },
    {
     "data": {
      "image/png": "[encoded data removed]",
      "text/plain": [
       "<Figure size 1000x500 with 2 Axes>"
      ]
     },
     "metadata": {},
     "output_type": "display_data"
    }
   ],
   "source": [
    "fig = plt.figure(figsize=(10,5))\n",
    "ax1 = fig.add_subplot(121)\n",
    "ax2 = fig.add_subplot(122)\n",
    "cmap = \"rocket\" #'gist_heat'\n",
    "cmap1 = ax1.imshow(test_array, cmap = cmap)\n",
    "cmap2 = ax2.imshow(res_array, cmap = cmap)\n",
    "\n",
    "s=4.5\n",
    "\n",
    "\n",
    "ax1.set_xticks(np.arange(len(num_inner_clusters_list\n",
    "                           )))\n",
    "ax1.set_xticklabels(num_inner_clusters_list, rotation=45, ha='right')\n",
    "ax1.set_xlabel('Number of clusters')\n",
    "\n",
    "ax1.set_yticks(np.arange(len(dim_list\n",
    "                           )))\n",
    "ax1.set_yticklabels(dim_list)\n",
    "ax1.set_ylabel('Dimension')\n",
    "\n",
    "ax2.set_xticks(np.arange(len(num_inner_clusters_list\n",
    "                           )))\n",
    "ax2.set_xticklabels(num_inner_clusters_list, rotation=45, ha='right')\n",
    "ax2.set_xlabel('Number of clusters')\n",
    "\n",
    "ax2.set_yticks(np.arange(len(dim_list\n",
    "                           )))\n",
    "ax2.set_yticklabels(dim_list)\n",
    "ax2.set_ylabel('Dimension')\n",
    " # Draw gridlines based on minor ticks\n",
    "ax1.grid(which='minor', color='gray', linestyle='-', linewidth=0.01)\n",
    "ax2.grid(which='minor', color='gray', linestyle='-', linewidth=0.01)\n",
    "\n",
    "# サブプロット間のスペースを調整\n",
    "#plt.subplots_adjust(wspace=1.5) # wspaceを調整してサブプロット間の間隔を拡大\n",
    "\n",
    "ax1.set_title('Inside cluster identification')\n",
    "ax2.set_title('Outside cluster identification')\n",
    "\n",
    "\n",
    "#fig.colorbar(cmap, cax=ax)\n",
    "sns.despine()\n",
    "fig.colorbar(mappable=cmap1, ax=ax1, orientation='vertical')\n",
    "fig.colorbar(mappable=cmap2, ax=ax2, orientation='vertical')\n",
    "\n",
    "fig.savefig(f'./results/assets/fig09/cluster_identification_confusion_martrix_finalized.pdf')\n",
    "\n",
    "fig.savefig('./results/assets/fig09/cluster_identification_confusion_martrix_finalized.png', dpi=600)"
   ]
  },
  {
   "cell_type": "code",
   "execution_count": 30,
   "metadata": {},
   "outputs": [
    {
     "data": {
      "image/png": "[encoded data removed]",
      "text/plain": [
       "<Figure size 640x480 with 1 Axes>"
      ]
     },
     "metadata": {},
     "output_type": "display_data"
    }
   ],
   "source": [
    "fig, ax = plt.subplots(1,1)\n",
    "#ax = axes[0]\n",
    "ax.plot(num_inner_clusters_list,   res_dict[512]['test_classification_accuracy'], 'o-', label='Inside training', color=(26/255, 90/255, 46/255))\n",
    "ax.plot(num_inner_clusters_list, res_dict[512]['oos_classification_accuracy'], 'o-', label='Outside training',color=(230/255, 88/255, 13/255))\n",
    "\n",
    "ax.plot(num_inner_clusters_list, res_dict[512]['chance_performances'], '--', label='chance level',color='black')\n",
    "\n",
    "#ax.vlines(x=64, ymin=0, ymax=1.0, colors='blue', ls='--')\n",
    "#ax.vlines(x=128, ymin=0, ymax=1.0, colors='orange', ls='--')\n",
    "\n",
    "ax.set_xscale('log')\n",
    "#plt.yscale('log')\n",
    "ax.set_xlabel('Number of clusters')\n",
    "ax.set_ylabel('Cluster identification accuracy')\n",
    "fig.legend()\n",
    "sns.despine()\n",
    "ax.set_title('Novel cluster identification')\n",
    "\n",
    "#fig.savefig(os.path.join(save_base_dir, f'{analysis_base_condition}.pdf'), bbox_inches='tight')\n",
    "#fig.savefig(os.path.join(save_base_dir, f'{analysis_base_condition}.png'),dpi=600, bbox_inches='tight')\n",
    "\n",
    "fig.savefig('./results/assets/fig09/novel_cluster_identification.pdf')\n",
    "\n",
    "fig.savefig('./results/assets/fig09/novel_cluster_identification.png', dpi=600)"
   ]
  },
  {
   "cell_type": "code",
   "execution_count": 38,
   "metadata": {},
   "outputs": [
    {
     "data": {
      "text/plain": [
       "array([0.        , 0.        , 0.        , 0.        , 0.        ,\n",
       "       0.14013307, 0.94871795, 1.        , 1.        , 1.        ],\n",
       "      dtype=float32)"
      ]
     },
     "execution_count": 38,
     "metadata": {},
     "output_type": "execute_result"
    }
   ],
   "source": [
    "res_dict[512]['oos_classification_accuracy']"
   ]
  },
  {
   "cell_type": "code",
   "execution_count": 32,
   "metadata": {},
   "outputs": [
    {
     "data": {
      "text/plain": [
       "array([   2,    4,    8,   16,   32,   64,  128,  256,  512, 1024])"
      ]
     },
     "execution_count": 32,
     "metadata": {},
     "output_type": "execute_result"
    }
   ],
   "source": [
    "num_inner_clusters_list"
   ]
  },
  {
   "cell_type": "code",
   "execution_count": null,
   "metadata": {},
   "outputs": [],
   "source": []
  }
 ],
 "metadata": {
  "kernelspec": {
   "display_name": ".venv",
   "language": "python",
   "name": "python3"
  },
  "language_info": {
   "codemirror_mode": {
    "name": "ipython",
    "version": 3
   },
   "file_extension": ".py",
   "mimetype": "text/x-python",
   "name": "python",
   "nbconvert_exporter": "python",
   "pygments_lexer": "ipython3",
   "version": "3.8.19"
  }
 },
 "nbformat": 4,
 "nbformat_minor": 2
}
